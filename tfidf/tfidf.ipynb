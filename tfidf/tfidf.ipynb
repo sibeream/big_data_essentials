{
 "cells": [
  {
   "cell_type": "code",
   "execution_count": 1,
   "metadata": {},
   "outputs": [
    {
     "name": "stdout",
     "output_type": "stream",
     "text": [
      "Overwriting mapper_tf.py\n"
     ]
    }
   ],
   "source": [
    "%%writefile mapper_tf.py\n",
    "\n",
    "import sys\n",
    "import re\n",
    "\n",
    "from collections import Counter\n",
    "\n",
    "lookup_word = \"labor\"\n",
    "\n",
    "path = 'stop_words_en.txt'\n",
    "\n",
    "def read_stop_words(file_path):\n",
    "    return set(word.strip().lower() for word in open(file_path))\n",
    "\n",
    "stop_words = read_stop_words(path)\n",
    "\n",
    "\n",
    "for line in sys.stdin:\n",
    "    try:\n",
    "        article_id, text = line.strip().split('\\t', 1)\n",
    "    except ValueError as e:\n",
    "        continue\n",
    "\n",
    "    words = [w.lower() for w in re.split(\"\\W*\\s+\\W*\", text, flags=re.UNICODE) if w.lower() not in stop_words]\n",
    "    total_words = len(words)\n",
    "    word_count = Counter(words)\n",
    "    if lookup_word in word_count:\n",
    "        tf = word_count[lookup_word] / total_words\n",
    "        print(\"%s\\t%f\\t%s\" % (lookup_word, tf, article_id))"
   ]
  },
  {
   "cell_type": "code",
   "execution_count": 2,
   "metadata": {},
   "outputs": [
    {
     "name": "stdout",
     "output_type": "stream",
     "text": [
      "Overwriting reducer_tfidf.py\n"
     ]
    }
   ],
   "source": [
    "%%writefile reducer_tfidf.py\n",
    "\n",
    "import sys\n",
    "\n",
    "from math import log\n",
    "\n",
    "lookup_article_id = 12\n",
    "\n",
    "lookup_tf = None\n",
    "word_sum = 0\n",
    "\n",
    "for line in sys.stdin:\n",
    "    try:\n",
    "        lookup_word, tf, article_id = line.strip().split('\\t')\n",
    "    except ValueError as e:\n",
    "        continue\n",
    "    word_sum += 1\n",
    "    if int(article_id) == lookup_article_id:\n",
    "        lookup_tf = float(tf)\n",
    "\n",
    "\n",
    "if lookup_tf:\n",
    "    idf = 1. / log(1 + word_sum)\n",
    "    print (\"%0.6f\" % (lookup_tf * idf))"
   ]
  },
  {
   "cell_type": "code",
   "execution_count": 3,
   "metadata": {},
   "outputs": [
    {
     "name": "stdout",
     "output_type": "stream",
     "text": [
      "0.000351\t\n"
     ]
    },
    {
     "name": "stderr",
     "output_type": "stream",
     "text": [
      "21/11/01 16:08:47 INFO client.RMProxy: Connecting to ResourceManager at /0.0.0.0:8032\n",
      "21/11/01 16:08:48 INFO client.RMProxy: Connecting to ResourceManager at /0.0.0.0:8032\n",
      "21/11/01 16:08:49 INFO mapred.FileInputFormat: Total input files to process : 1\n",
      "21/11/01 16:08:49 INFO mapreduce.JobSubmitter: number of splits:2\n",
      "21/11/01 16:08:49 INFO Configuration.deprecation: yarn.resourcemanager.system-metrics-publisher.enabled is deprecated. Instead, use yarn.system-metrics-publisher.enabled\n",
      "21/11/01 16:08:50 INFO mapreduce.JobSubmitter: Submitting tokens for job: job_1635782503509_0002\n",
      "21/11/01 16:08:50 INFO conf.Configuration: resource-types.xml not found\n",
      "21/11/01 16:08:50 INFO resource.ResourceUtils: Unable to find 'resource-types.xml'.\n",
      "21/11/01 16:08:50 INFO resource.ResourceUtils: Adding resource type - name = memory-mb, units = Mi, type = COUNTABLE\n",
      "21/11/01 16:08:50 INFO resource.ResourceUtils: Adding resource type - name = vcores, units = , type = COUNTABLE\n",
      "21/11/01 16:08:50 INFO impl.YarnClientImpl: Submitted application application_1635782503509_0002\n",
      "21/11/01 16:08:50 INFO mapreduce.Job: The url to track the job: http://172.17.0.2:8088/proxy/application_1635782503509_0002/\n",
      "21/11/01 16:08:50 INFO mapreduce.Job: Running job: job_1635782503509_0002\n",
      "21/11/01 16:09:04 INFO mapreduce.Job: Job job_1635782503509_0002 running in uber mode : false\n",
      "21/11/01 16:09:04 INFO mapreduce.Job:  map 0% reduce 0%\n",
      "21/11/01 16:09:13 INFO mapreduce.Job:  map 100% reduce 0%\n",
      "21/11/01 16:09:18 INFO mapreduce.Job:  map 100% reduce 100%\n",
      "21/11/01 16:09:18 INFO mapreduce.Job: Job job_1635782503509_0002 completed successfully\n",
      "21/11/01 16:09:18 INFO mapreduce.Job: Counters: 49\n",
      "\tFile System Counters\n",
      "\t\tFILE: Number of bytes read=6011\n",
      "\t\tFILE: Number of bytes written=639486\n",
      "\t\tFILE: Number of read operations=0\n",
      "\t\tFILE: Number of large read operations=0\n",
      "\t\tFILE: Number of write operations=0\n",
      "\t\tHDFS: Number of bytes read=76874501\n",
      "\t\tHDFS: Number of bytes written=10\n",
      "\t\tHDFS: Number of read operations=9\n",
      "\t\tHDFS: Number of large read operations=0\n",
      "\t\tHDFS: Number of write operations=2\n",
      "\tJob Counters \n",
      "\t\tLaunched map tasks=2\n",
      "\t\tLaunched reduce tasks=1\n",
      "\t\tData-local map tasks=2\n",
      "\t\tTotal time spent by all maps in occupied slots (ms)=13868\n",
      "\t\tTotal time spent by all reduces in occupied slots (ms)=1594\n",
      "\t\tTotal time spent by all map tasks (ms)=13868\n",
      "\t\tTotal time spent by all reduce tasks (ms)=1594\n",
      "\t\tTotal vcore-milliseconds taken by all map tasks=13868\n",
      "\t\tTotal vcore-milliseconds taken by all reduce tasks=1594\n",
      "\t\tTotal megabyte-milliseconds taken by all map tasks=14200832\n",
      "\t\tTotal megabyte-milliseconds taken by all reduce tasks=1632256\n",
      "\tMap-Reduce Framework\n",
      "\t\tMap input records=4100\n",
      "\t\tMap output records=274\n",
      "\t\tMap output bytes=5457\n",
      "\t\tMap output materialized bytes=6017\n",
      "\t\tInput split bytes=228\n",
      "\t\tCombine input records=0\n",
      "\t\tCombine output records=0\n",
      "\t\tReduce input groups=1\n",
      "\t\tReduce shuffle bytes=6017\n",
      "\t\tReduce input records=274\n",
      "\t\tReduce output records=1\n",
      "\t\tSpilled Records=548\n",
      "\t\tShuffled Maps =2\n",
      "\t\tFailed Shuffles=0\n",
      "\t\tMerged Map outputs=2\n",
      "\t\tGC time elapsed (ms)=193\n",
      "\t\tCPU time spent (ms)=2300\n",
      "\t\tPhysical memory (bytes) snapshot=808386560\n",
      "\t\tVirtual memory (bytes) snapshot=5830422528\n",
      "\t\tTotal committed heap usage (bytes)=551550976\n",
      "\tShuffle Errors\n",
      "\t\tBAD_ID=0\n",
      "\t\tCONNECTION=0\n",
      "\t\tIO_ERROR=0\n",
      "\t\tWRONG_LENGTH=0\n",
      "\t\tWRONG_MAP=0\n",
      "\t\tWRONG_REDUCE=0\n",
      "\tFile Input Format Counters \n",
      "\t\tBytes Read=76874273\n",
      "\tFile Output Format Counters \n",
      "\t\tBytes Written=10\n",
      "21/11/01 16:09:18 INFO streaming.StreamJob: Output directory: tfidf_result\n"
     ]
    }
   ],
   "source": [
    "%%bash\n",
    "\n",
    "OUT_DIR=\"tfidf_result\"\n",
    "NUM_REDUCERS=1\n",
    "\n",
    "hdfs dfs -rm -r -skipTrash ${OUT_DIR} > /dev/null\n",
    "\n",
    "# Stub code for your job\n",
    "\n",
    "yarn jar /opt/cloudera/parcels/CDH/lib/hadoop-mapreduce/hadoop-streaming.jar \\\n",
    "    -D mapreduce.job.name=\"tfidf\" \\\n",
    "    -D mapreduce.job.reduces=${NUM_REDUCERS} \\\n",
    "    -files mapper_tf.py,reducer_tfidf.py,/datasets/stop_words_en.txt \\\n",
    "    -mapper \"python3 mapper_tf.py\" \\\n",
    "    -reducer \"python3 reducer_tfidf.py\" \\\n",
    "    -input /data/wiki/en_articles_part \\\n",
    "    -output ${OUT_DIR} > /dev/null\n",
    "\n",
    "hdfs dfs -cat ${OUT_DIR}/part-*"
   ]
  },
  {
   "cell_type": "code",
   "execution_count": null,
   "metadata": {},
   "outputs": [],
   "source": []
  }
 ],
 "metadata": {
  "kernelspec": {
   "display_name": "Python 3",
   "language": "python",
   "name": "python3"
  },
  "language_info": {
   "codemirror_mode": {
    "name": "ipython",
    "version": 3
   },
   "file_extension": ".py",
   "mimetype": "text/x-python",
   "name": "python",
   "nbconvert_exporter": "python",
   "pygments_lexer": "ipython3",
   "version": "3.9.7"
  }
 },
 "nbformat": 4,
 "nbformat_minor": 2
}
