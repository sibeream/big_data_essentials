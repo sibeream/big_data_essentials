{
 "cells": [
  {
   "cell_type": "code",
   "execution_count": 1,
   "metadata": {},
   "outputs": [
    {
     "name": "stdout",
     "output_type": "stream",
     "text": [
      "Overwriting mapper_wiki_parser.py\n"
     ]
    }
   ],
   "source": [
    "%%writefile mapper_wiki_parser.py\n",
    "\n",
    "\n",
    "import sys\n",
    "import re\n",
    "\n",
    "\n",
    "def eprint(*args, **kwargs):\n",
    "    print(*args, file=sys.stderr, **kwargs)\n",
    "\n",
    "path = 'stop_words_en.txt'\n",
    "\n",
    "def read_stop_words(file_path):\n",
    "    return set(word.strip() for word in open(file_path))\n",
    "\n",
    "stop_words = read_stop_words(path)\n",
    "\n",
    "\n",
    "for line in sys.stdin:\n",
    "    try:\n",
    "        article_id, text = line.strip().split('\\t', 1)\n",
    "    except ValueError as e:\n",
    "        continue\n",
    "\n",
    "    words = re.split(\"\\W*\\s+\\W*\", text, flags=re.UNICODE)\n",
    "\n",
    "    for word in words:\n",
    "        eprint(\"reporter:counter:Wiki stats,Total words,%d\" % 1)\n",
    "        if word in stop_words:\n",
    "            eprint(\"reporter:counter:Wiki stats,Stop words,%d\" % 1)\n",
    "        print(\"%s\\t%d\" % (word.lower(), 1))"
   ]
  },
  {
   "cell_type": "code",
   "execution_count": 2,
   "metadata": {},
   "outputs": [
    {
     "name": "stdout",
     "output_type": "stream",
     "text": [
      "Overwriting reducer_sum.py\n"
     ]
    }
   ],
   "source": [
    "%%writefile reducer_sum.py\n",
    "\n",
    "import sys\n",
    "\n",
    "current_key = None\n",
    "word_sum = 0\n",
    "\n",
    "for line in sys.stdin:\n",
    "    try:\n",
    "        key, count = line.strip().split('\\t', 1)\n",
    "        count = int(count)\n",
    "    except ValueError as e:\n",
    "        continue\n",
    "    if current_key != key:\n",
    "        if current_key:\n",
    "            print(\"%s\\t%d\" % (current_key, word_sum))\n",
    "        word_sum = 0\n",
    "        current_key = key\n",
    "    word_sum += count\n",
    "\n",
    "if current_key:\n",
    "    print(\"%s\\t%d\" % (current_key, word_sum))"
   ]
  },
  {
   "cell_type": "code",
   "execution_count": 3,
   "metadata": {},
   "outputs": [
    {
     "name": "stdout",
     "output_type": "stream",
     "text": [
      "Overwriting counter_process.py\n"
     ]
    }
   ],
   "source": [
    "%%writefile counter_process.py\n",
    "\n",
    "#! /usr/bin/env python\n",
    "import sys\n",
    "\n",
    "\n",
    "if __name__ == '__main__':\n",
    "    stop_words_key = sys.argv[1]\n",
    "    total_words_key = sys.argv[2]\n",
    "    \n",
    "    stop_words_count = 0\n",
    "    total_words_count = 0\n",
    " \n",
    "    for line in sys.stdin:\n",
    "        line = line.strip()\n",
    "        if line.startswith(stop_words_key):\n",
    "            stop_words_count = int(line.split('=')[1].strip())\n",
    "        if line.startswith(total_words_key):\n",
    "            total_words_count = int(line.split('=')[1].strip())\n",
    "    \n",
    "    print (float(stop_words_count)/total_words_count * 100)"
   ]
  },
  {
   "cell_type": "code",
   "execution_count": 4,
   "metadata": {},
   "outputs": [
    {
     "name": "stdout",
     "output_type": "stream",
     "text": [
      "38.44036900909957\n"
     ]
    },
    {
     "name": "stderr",
     "output_type": "stream",
     "text": [
      "21/10/27 07:33:25 INFO client.RMProxy: Connecting to ResourceManager at /0.0.0.0:8032\n",
      "21/10/27 07:33:26 INFO client.RMProxy: Connecting to ResourceManager at /0.0.0.0:8032\n",
      "21/10/27 07:33:26 INFO mapred.FileInputFormat: Total input files to process : 1\n",
      "21/10/27 07:33:27 INFO mapreduce.JobSubmitter: number of splits:2\n",
      "21/10/27 07:33:27 INFO Configuration.deprecation: yarn.resourcemanager.system-metrics-publisher.enabled is deprecated. Instead, use yarn.system-metrics-publisher.enabled\n",
      "21/10/27 07:33:27 INFO mapreduce.JobSubmitter: Submitting tokens for job: job_1635318885577_0004\n",
      "21/10/27 07:33:28 INFO conf.Configuration: resource-types.xml not found\n",
      "21/10/27 07:33:28 INFO resource.ResourceUtils: Unable to find 'resource-types.xml'.\n",
      "21/10/27 07:33:28 INFO resource.ResourceUtils: Adding resource type - name = memory-mb, units = Mi, type = COUNTABLE\n",
      "21/10/27 07:33:28 INFO resource.ResourceUtils: Adding resource type - name = vcores, units = , type = COUNTABLE\n",
      "21/10/27 07:33:28 INFO impl.YarnClientImpl: Submitted application application_1635318885577_0004\n",
      "21/10/27 07:33:28 INFO mapreduce.Job: The url to track the job: http://172.17.0.70:8088/proxy/application_1635318885577_0004/\n",
      "21/10/27 07:33:28 INFO mapreduce.Job: Running job: job_1635318885577_0004\n",
      "21/10/27 07:33:33 INFO mapreduce.Job: Job job_1635318885577_0004 running in uber mode : false\n",
      "21/10/27 07:33:33 INFO mapreduce.Job:  map 0% reduce 0%\n",
      "21/10/27 07:33:50 INFO mapreduce.Job:  map 31% reduce 0%\n",
      "21/10/27 07:33:56 INFO mapreduce.Job:  map 43% reduce 0%\n",
      "21/10/27 07:34:02 INFO mapreduce.Job:  map 46% reduce 0%\n",
      "21/10/27 07:34:08 INFO mapreduce.Job:  map 57% reduce 0%\n",
      "21/10/27 07:34:14 INFO mapreduce.Job:  map 67% reduce 0%\n",
      "21/10/27 07:34:17 INFO mapreduce.Job:  map 100% reduce 0%\n",
      "21/10/27 07:34:23 INFO mapreduce.Job:  map 100% reduce 25%\n",
      "21/10/27 07:34:26 INFO mapreduce.Job:  map 100% reduce 50%\n",
      "21/10/27 07:34:28 INFO mapreduce.Job:  map 100% reduce 75%\n",
      "21/10/27 07:34:29 INFO mapreduce.Job:  map 100% reduce 100%\n",
      "21/10/27 07:34:30 INFO mapreduce.Job: Job job_1635318885577_0004 completed successfully\n",
      "21/10/27 07:34:30 INFO mapreduce.Job: Counters: 52\n",
      "\tFile System Counters\n",
      "\t\tFILE: Number of bytes read=17931079\n",
      "\t\tFILE: Number of bytes written=28116680\n",
      "\t\tFILE: Number of read operations=0\n",
      "\t\tFILE: Number of large read operations=0\n",
      "\t\tFILE: Number of write operations=0\n",
      "\t\tHDFS: Number of bytes read=76874501\n",
      "\t\tHDFS: Number of bytes written=5370711\n",
      "\t\tHDFS: Number of read operations=18\n",
      "\t\tHDFS: Number of large read operations=0\n",
      "\t\tHDFS: Number of write operations=8\n",
      "\tJob Counters \n",
      "\t\tKilled reduce tasks=1\n",
      "\t\tLaunched map tasks=2\n",
      "\t\tLaunched reduce tasks=4\n",
      "\t\tData-local map tasks=2\n",
      "\t\tTotal time spent by all maps in occupied slots (ms)=83563\n",
      "\t\tTotal time spent by all reduces in occupied slots (ms)=24226\n",
      "\t\tTotal time spent by all map tasks (ms)=83563\n",
      "\t\tTotal time spent by all reduce tasks (ms)=24226\n",
      "\t\tTotal vcore-milliseconds taken by all map tasks=83563\n",
      "\t\tTotal vcore-milliseconds taken by all reduce tasks=24226\n",
      "\t\tTotal megabyte-milliseconds taken by all map tasks=85568512\n",
      "\t\tTotal megabyte-milliseconds taken by all reduce tasks=24807424\n",
      "\tMap-Reduce Framework\n",
      "\t\tMap input records=4100\n",
      "\t\tMap output records=11937375\n",
      "\t\tMap output bytes=97842608\n",
      "\t\tMap output materialized bytes=8953044\n",
      "\t\tInput split bytes=228\n",
      "\t\tCombine input records=11937375\n",
      "\t\tCombine output records=640030\n",
      "\t\tReduce input groups=427188\n",
      "\t\tReduce shuffle bytes=8953044\n",
      "\t\tReduce input records=640030\n",
      "\t\tReduce output records=427188\n",
      "\t\tSpilled Records=1920090\n",
      "\t\tShuffled Maps =8\n",
      "\t\tFailed Shuffles=0\n",
      "\t\tMerged Map outputs=8\n",
      "\t\tGC time elapsed (ms)=1479\n",
      "\t\tCPU time spent (ms)=69240\n",
      "\t\tPhysical memory (bytes) snapshot=1328435200\n",
      "\t\tVirtual memory (bytes) snapshot=11578368000\n",
      "\t\tTotal committed heap usage (bytes)=815267840\n",
      "\tShuffle Errors\n",
      "\t\tBAD_ID=0\n",
      "\t\tCONNECTION=0\n",
      "\t\tIO_ERROR=0\n",
      "\t\tWRONG_LENGTH=0\n",
      "\t\tWRONG_MAP=0\n",
      "\t\tWRONG_REDUCE=0\n",
      "\tWiki stats\n",
      "\t\tStop words=4588771\n",
      "\t\tTotal words=11937375\n",
      "\tFile Input Format Counters \n",
      "\t\tBytes Read=76874273\n",
      "\tFile Output Format Counters \n",
      "\t\tBytes Written=5370711\n",
      "21/10/27 07:34:30 INFO streaming.StreamJob: Output directory: coursera_mr_task2\n"
     ]
    }
   ],
   "source": [
    "%%bash\n",
    "\n",
    "OUT_DIR=\"coursera_mr_task2\"\n",
    "NUM_REDUCERS=4\n",
    "LOGS=\"stderr_logs.txt\"\n",
    "\n",
    "hdfs dfs -rm -r -skipTrash ${OUT_DIR} > /dev/null\n",
    "\n",
    "# Stub code for your job\n",
    "\n",
    "yarn jar /opt/cloudera/parcels/CDH/lib/hadoop-mapreduce/hadoop-streaming.jar \\\n",
    "    -D mapreduce.job.name=\"Streaming Word Count\" \\\n",
    "    -D mapreduce.job.reduces=${NUM_REDUCERS} \\\n",
    "    -files mapper_wiki_parser.py,reducer_sum.py,/datasets/stop_words_en.txt \\\n",
    "    -mapper \"python3 mapper_wiki_parser.py\" \\\n",
    "    -combiner \"python3 reducer_sum.py\" \\\n",
    "    -reducer \"python3 reducer_sum.py\" \\\n",
    "    -input /data/wiki/en_articles_part \\\n",
    "    -output ${OUT_DIR} > /dev/null 2> $LOGS\n",
    "    \n",
    "cat $LOGS | python ./counter_process.py \"Stop words\" \"Total words\"\n",
    "cat $LOGS >&2\n"
   ]
  },
  {
   "cell_type": "code",
   "execution_count": null,
   "metadata": {},
   "outputs": [],
   "source": []
  }
 ],
 "metadata": {
  "kernelspec": {
   "display_name": "Python 3",
   "language": "python",
   "name": "python3"
  },
  "language_info": {
   "codemirror_mode": {
    "name": "ipython",
    "version": 3
   },
   "file_extension": ".py",
   "mimetype": "text/x-python",
   "name": "python",
   "nbconvert_exporter": "python",
   "pygments_lexer": "ipython3",
   "version": "3.9.7"
  }
 },
 "nbformat": 4,
 "nbformat_minor": 2
}
